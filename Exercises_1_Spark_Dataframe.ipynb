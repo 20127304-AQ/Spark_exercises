{
  "nbformat": 4,
  "nbformat_minor": 0,
  "metadata": {
    "colab": {
      "provenance": [],
      "collapsed_sections": [
        "DfAmwnpt1G5p"
      ]
    },
    "kernelspec": {
      "name": "python3",
      "display_name": "Python 3"
    },
    "language_info": {
      "name": "python"
    }
  },
  "cells": [
    {
      "cell_type": "markdown",
      "source": [
        "# Install Java and Spark on Hadoop"
      ],
      "metadata": {
        "id": "epfrvqOy0XbK"
      }
    },
    {
      "cell_type": "code",
      "source": [],
      "metadata": {
        "id": "LF2fsIkdNPNA"
      },
      "execution_count": null,
      "outputs": []
    },
    {
      "cell_type": "code",
      "metadata": {
        "id": "Pf3zOXQkRf0l",
        "colab": {
          "base_uri": "https://localhost:8080/"
        },
        "outputId": "47201ca8-efb4-489c-c4de-d7fb544ffb4d"
      },
      "source": [
        "# install java\n",
        "!apt-get update\n",
        "!apt-get install openjdk-8-jdk-headless -qq > /dev/null\n",
        "# install spark (change the version number if needed)\n",
        "!wget -q https://downloads.apache.org/spark/spark-3.3.2/spark-3.3.2-bin-hadoop3.tgz\n",
        "# unzip the spark file to the current folder\n",
        "!tar xf spark-3.3.2-bin-hadoop3.tgz"
      ],
      "execution_count": null,
      "outputs": [
        {
          "output_type": "stream",
          "name": "stdout",
          "text": [
            "\r0% [Working]\r            \rGet:1 https://cloud.r-project.org/bin/linux/ubuntu focal-cran40/ InRelease [3,622 B]\n",
            "Hit:2 https://developer.download.nvidia.com/compute/cuda/repos/ubuntu2004/x86_64  InRelease\n",
            "Hit:3 http://archive.ubuntu.com/ubuntu focal InRelease\n",
            "Get:4 http://security.ubuntu.com/ubuntu focal-security InRelease [114 kB]\n",
            "Get:5 http://ppa.launchpad.net/c2d4u.team/c2d4u4.0+/ubuntu focal InRelease [18.1 kB]\n",
            "Get:6 http://archive.ubuntu.com/ubuntu focal-updates InRelease [114 kB]\n",
            "Hit:7 http://ppa.launchpad.net/cran/libgit2/ubuntu focal InRelease\n",
            "Hit:8 http://ppa.launchpad.net/deadsnakes/ppa/ubuntu focal InRelease\n",
            "Get:9 http://archive.ubuntu.com/ubuntu focal-backports InRelease [108 kB]\n",
            "Get:10 http://ppa.launchpad.net/graphics-drivers/ppa/ubuntu focal InRelease [24.3 kB]\n",
            "Get:11 http://security.ubuntu.com/ubuntu focal-security/main amd64 Packages [2,681 kB]\n",
            "Get:12 http://archive.ubuntu.com/ubuntu focal-updates/universe amd64 Packages [1,343 kB]\n",
            "Hit:13 http://ppa.launchpad.net/ubuntugis/ppa/ubuntu focal InRelease\n",
            "Get:14 http://ppa.launchpad.net/c2d4u.team/c2d4u4.0+/ubuntu focal/main Sources [2,573 kB]\n",
            "Get:15 http://archive.ubuntu.com/ubuntu focal-updates/main amd64 Packages [3,158 kB]\n",
            "Get:16 http://security.ubuntu.com/ubuntu focal-security/universe amd64 Packages [1,046 kB]\n",
            "Get:17 http://ppa.launchpad.net/c2d4u.team/c2d4u4.0+/ubuntu focal/main amd64 Packages [1,213 kB]\n",
            "Get:18 http://ppa.launchpad.net/graphics-drivers/ppa/ubuntu focal/main amd64 Packages [46.8 kB]\n",
            "Fetched 12.4 MB in 5s (2,606 kB/s)\n",
            "Reading package lists... Done\n"
          ]
        }
      ]
    },
    {
      "cell_type": "code",
      "metadata": {
        "id": "Llc1FhGNQ3U5"
      },
      "source": [
        "# set your spark folder to your system path environment. \n",
        "import os\n",
        "os.environ[\"JAVA_HOME\"] = \"/usr/lib/jvm/java-8-openjdk-amd64\"\n",
        "os.environ[\"SPARK_HOME\"] = \"/content/spark-3.3.2-bin-hadoop3\"\n"
      ],
      "execution_count": null,
      "outputs": []
    },
    {
      "cell_type": "code",
      "source": [
        "!pip install findspark\n",
        "import findspark\n",
        "findspark.init()"
      ],
      "metadata": {
        "colab": {
          "base_uri": "https://localhost:8080/"
        },
        "id": "7ExFt_N8-z2m",
        "outputId": "417f1dfe-facf-4c2e-ffe9-b2684413ce5b"
      },
      "execution_count": null,
      "outputs": [
        {
          "output_type": "stream",
          "name": "stdout",
          "text": [
            "Looking in indexes: https://pypi.org/simple, https://us-python.pkg.dev/colab-wheels/public/simple/\n",
            "Collecting findspark\n",
            "  Downloading findspark-2.0.1-py2.py3-none-any.whl (4.4 kB)\n",
            "Installing collected packages: findspark\n",
            "Successfully installed findspark-2.0.1\n"
          ]
        }
      ]
    },
    {
      "cell_type": "markdown",
      "source": [
        "# Creating a SparkSession in Python"
      ],
      "metadata": {
        "id": "DfAmwnpt1G5p"
      }
    },
    {
      "cell_type": "code",
      "source": [
        "import pyspark\n",
        "from pyspark.sql import SparkSession\n",
        "spark = SparkSession.builder.master(\"local\")\\\n",
        "          .appName(\"Introduction to Spark\")\\\n",
        "          .config(\"spark.some.config.option\", \"some-value\")\\\n",
        "          .getOrCreate()"
      ],
      "metadata": {
        "id": "ZU-oJLNVQl45"
      },
      "execution_count": null,
      "outputs": []
    },
    {
      "cell_type": "code",
      "metadata": {
        "id": "5B0xdV4gLh8b"
      },
      "source": [
        "# Import necessary libraries\n",
        "from pyspark.sql.functions import col, column, expr\n",
        "from pyspark.sql import functions as f"
      ],
      "execution_count": null,
      "outputs": []
    },
    {
      "cell_type": "markdown",
      "source": [],
      "metadata": {
        "id": "uBjB8Tz48y91"
      }
    },
    {
      "cell_type": "markdown",
      "source": [
        "# Answer the questions"
      ],
      "metadata": {
        "id": "MPpD2OQ11RV8"
      }
    },
    {
      "cell_type": "markdown",
      "source": [
        "0- Load the data files"
      ],
      "metadata": {
        "id": "xdO2c34d1WWh"
      }
    },
    {
      "cell_type": "code",
      "source": [
        "!git clone https://github.com/nnthaofit/CSC14118.git"
      ],
      "metadata": {
        "colab": {
          "base_uri": "https://localhost:8080/"
        },
        "id": "scvJmCk73r8q",
        "outputId": "b682ad85-a944-4d82-d4bb-288d94413dc1"
      },
      "execution_count": null,
      "outputs": [
        {
          "output_type": "stream",
          "name": "stdout",
          "text": [
            "Cloning into 'CSC14118'...\n",
            "remote: Enumerating objects: 3, done.\u001b[K\n",
            "remote: Counting objects: 100% (3/3), done.\u001b[K\n",
            "remote: Compressing objects: 100% (2/2), done.\u001b[K\n",
            "remote: Total 3 (delta 0), reused 0 (delta 0), pack-reused 0\u001b[K\n",
            "Unpacking objects: 100% (3/3), 762.51 KiB | 1.48 MiB/s, done.\n"
          ]
        }
      ]
    },
    {
      "cell_type": "code",
      "metadata": {
        "id": "6kNSEFq9TTmP"
      },
      "source": [
        "df = spark.read.json(\"CSC14118/movies.json\") "
      ],
      "execution_count": null,
      "outputs": []
    },
    {
      "cell_type": "markdown",
      "source": [
        "1- Show the schema of DataFrame that stores the movies dataset."
      ],
      "metadata": {
        "id": "3VlqG5ph3_18"
      }
    },
    {
      "cell_type": "code",
      "source": [
        "df.schema"
      ],
      "metadata": {
        "id": "GmjXJMLV3-W7",
        "outputId": "506da477-fd5f-4f5c-98c7-4a2d3d27b1db",
        "colab": {
          "base_uri": "https://localhost:8080/"
        }
      },
      "execution_count": null,
      "outputs": [
        {
          "output_type": "execute_result",
          "data": {
            "text/plain": [
              "StructType([StructField('cast', ArrayType(StringType(), True), True), StructField('genres', ArrayType(StringType(), True), True), StructField('title', StringType(), True), StructField('year', LongType(), True)])"
            ]
          },
          "metadata": {},
          "execution_count": 8
        }
      ]
    },
    {
      "cell_type": "code",
      "source": [
        "# 1. Show the number of distinct films in the dataset\n",
        "df.orderBy(df.year, ascending = False).show(truncate = False)"
      ],
      "metadata": {
        "colab": {
          "base_uri": "https://localhost:8080/"
        },
        "id": "ZcmqNqzeohGz",
        "outputId": "5677d7fb-5b7d-40c7-f9c7-812c3764bf39"
      },
      "execution_count": null,
      "outputs": [
        {
          "output_type": "stream",
          "name": "stdout",
          "text": [
            "+----------------------------------------------------------------------------------------------------------------------------------------------------------------------+-----------------------------------------+---------------------------+----+\n",
            "|cast                                                                                                                                                                  |genres                                   |title                      |year|\n",
            "+----------------------------------------------------------------------------------------------------------------------------------------------------------------------+-----------------------------------------+---------------------------+----+\n",
            "|[Lin Shaye, Angus Sampson, Leigh Whannell, Spencer Locke, Caitlin Gerard, Kirk Acevedo, Bruce Davison]                                                                |[Horror, Thriller]                       |Insidious: The Last Key    |2018|\n",
            "|[James Corden, Domhnall Gleeson, Rose Byrne, Margot Robbie, Daisy Ridley, Elizabeth Debicki, Sam Neill]                                                               |[Animated, Family, Comedy]               |Peter Rabbit               |2018|\n",
            "|[Alex Pettyfer, James Freedson-Jackson, Emily Althaus, Gene Jones, Owen Campbell, Tobias Campbell]                                                                    |[Drama]                                  |The Strange Ones           |2018|\n",
            "|[Bryan Brown, Sam Neill]                                                                                                                                              |[Drama]                                  |Sweet Country              |2018|\n",
            "|[Liam Neeson, Vera Farmiga, Patrick Wilson, Jonathan Banks, Elizabeth McGovern, Sam Neill]                                                                            |[Action, Crime, Drama, Mystery, Thriller]|The Commuter               |2018|\n",
            "|[Taraji P. Henson, Billy Brown, Danny Glover, Neal McDonough, Xander Berkeley, Margaret Avery]                                                                        |[Action, Thriller]                       |Proud Mary                 |2018|\n",
            "|[Bruce Willis, Cole Hauser, Shawn Ashmore, Melissa Bolona, Mike Epps]                                                                                                 |[Action, Thriller]                       |Acts of Violence           |2018|\n",
            "|[Alex Lawther, Abigail Breslin, Bette Midler, AnnaSophia Robb, Ian Nelson, Lorraine Toussaint, Laverne Cox]                                                           |[Drama]                                  |Freak Show                 |2018|\n",
            "|[Jemaine Clement, Elliott Gould, Ingrid Michaelson, Annie Potts, Priscilla Lopez, Bebe Neuwirth, Maria Dizzia]                                                        |[Comedy]                                 |Humor Me                   |2018|\n",
            "|[Chris Hemsworth, Michael Shannon, Michael Peña, Navid Negahban, Trevante Rhodes, Geoff Stults, Thad Luckinbill, Elsa Pataky, Rob Riggle, William Fichtner]           |[War, Drama]                             |12 Strong                  |2018|\n",
            "|[Gerard Butler, 50 Cent, Pablo Schreiber, O'Shea Jackson Jr., Evan Jones, Dawn Olivieri, Mo McRae, Max Holloway]                                                      |[Action, Action, Thriller]               |Den of Thieves             |2018|\n",
            "|[Alex Roe, Jessica Rothe, John Benjamin Hickey]                                                                                                                       |[Romance, Musical, Drama]                |Forever My Girl            |2018|\n",
            "|[Dylan O'Brien, Kaya Scodelario, Thomas Brodie-Sangster, Ki Hong Lee, Giancarlo Esposito, Aidan Gillen, Walton Goggins, Barry Pepper, Will Poulter, Patricia Clarkson]|[Action, Science Fiction, Thriller]      |Maze Runner: The Death Cure|2018|\n",
            "|[Adel Karam, Camille Salameh, Kamel El Basha]                                                                                                                         |[Drama]                                  |The Insult                 |2018|\n",
            "|[Dakota Fanning, Toni Collette, Alice Eve]                                                                                                                            |[Comedy, Drama]                          |Please Stand By            |2018|\n",
            "|[Helen Mirren, Jason Clarke, Sarah Snook, Angus Sampson]                                                                                                              |[Horror]                                 |Winchester                 |2018|\n",
            "|[Daniela Vega, Francisco Reyes]                                                                                                                                       |[Drama]                                  |A Fantastic Woman          |2018|\n",
            "|[Mario Van Peebles, William Fichtner, Ryan Guzman, Columbus Short, Laz Alonso]                                                                                        |[Action]                                 |Armed                      |2018|\n",
            "|[Daniel Brühl, Elizabeth Debicki, Aksel Hennie, Gugu Mbatha-Raw, Chris O'Dowd, John Ortiz, David Oyelowo, Zhang Ziyi]                                                 |[Science Fiction, Horror, Thriller]      |The Cloverfield Paradox    |2018|\n",
            "|[Anthony Sadler, Alek Skarlatos, Spencer Stone, Judy Greer, Jenna Fischer, Ray Corasani]                                                                              |[Biography, Drama]                       |The 15:17 to Paris         |2018|\n",
            "+----------------------------------------------------------------------------------------------------------------------------------------------------------------------+-----------------------------------------+---------------------------+----+\n",
            "only showing top 20 rows\n",
            "\n"
          ]
        }
      ]
    },
    {
      "cell_type": "code",
      "source": [
        "# 1. Show the number of distinct films in the dataset\n",
        "df.select(f.countDistinct('*')).show()"
      ],
      "metadata": {
        "colab": {
          "base_uri": "https://localhost:8080/"
        },
        "id": "_otnnauXHbQA",
        "outputId": "8a9783fa-938f-4d8b-b240-2924ca7d7350"
      },
      "execution_count": null,
      "outputs": [
        {
          "output_type": "stream",
          "name": "stdout",
          "text": [
            "+-----------------------------------------+\n",
            "|count(DISTINCT cast, genres, title, year)|\n",
            "+-----------------------------------------+\n",
            "|                                    28789|\n",
            "+-----------------------------------------+\n",
            "\n"
          ]
        }
      ]
    },
    {
      "cell_type": "code",
      "source": [
        "# 2. Count the number of movies released during the years 2012 and 2015 (included)\n",
        "df.where((df.year >= 2012) & (df.year <= 2015)).count()"
      ],
      "metadata": {
        "id": "LUjlxSEVHbSg",
        "colab": {
          "base_uri": "https://localhost:8080/"
        },
        "outputId": "14ff55a7-bd8b-40a8-d851-df0be85eee8b"
      },
      "execution_count": null,
      "outputs": [
        {
          "output_type": "execute_result",
          "data": {
            "text/plain": [
              "1015"
            ]
          },
          "metadata": {},
          "execution_count": 34
        }
      ]
    },
    {
      "cell_type": "code",
      "source": [
        "# 3.Show the year in which the number of movies released is highest\n",
        "grouped_df = df.groupBy(df.year).count().orderBy('count', ascending=False)\n",
        "highest_freq = grouped_df.first()[1]\n",
        "grouped_df.where(f.col('count') == highest_freq).show()"
      ],
      "metadata": {
        "id": "CYJqtRxDHbVQ",
        "colab": {
          "base_uri": "https://localhost:8080/"
        },
        "outputId": "4268a50b-f49c-4fa0-f2fe-9b050eb8a46e"
      },
      "execution_count": null,
      "outputs": [
        {
          "output_type": "stream",
          "name": "stdout",
          "text": [
            "+----+-----+\n",
            "|year|count|\n",
            "+----+-----+\n",
            "|1919|  634|\n",
            "+----+-----+\n",
            "\n"
          ]
        }
      ]
    },
    {
      "cell_type": "code",
      "source": [
        "# 4. Show the list of movies such that for each film, the number of actors/actresses is at least five, and the number of genres it belongs to is at most two genres.\n",
        "df.where((f.size(df.cast) >= 5) & (f.size(df.genres) <= 2)).show()"
      ],
      "metadata": {
        "id": "ILI0iACHHbXk",
        "colab": {
          "base_uri": "https://localhost:8080/"
        },
        "outputId": "f5934527-bccf-4670-fe3d-a5fbe11a2a32"
      },
      "execution_count": null,
      "outputs": [
        {
          "output_type": "stream",
          "name": "stdout",
          "text": [
            "+--------------------+----------------+--------------------+----+\n",
            "|                cast|          genres|               title|year|\n",
            "+--------------------+----------------+--------------------+----+\n",
            "|[Earle Foxe, Alie...|         [Drama]|  A Desperate Chance|1913|\n",
            "|[Charlotte Burton...|         [Drama]|    The Archeologist|1914|\n",
            "|[Charlotte Burton...|         [Drama]|At the Potter's W...|1914|\n",
            "|[Herbert Tracey, ...|        [Comedy]|    Back to the Farm|1914|\n",
            "|[Charlotte Burton...|              []|    The Beggar Child|1914|\n",
            "|[William Garwood,...|              []|       Billy's Rival|1914|\n",
            "|[B. Reeves Eason,...|         [Drama]| Break, Break, Break|1914|\n",
            "|[Charlotte Burton...|              []|       The Butterfly|1914|\n",
            "|[Charlotte Burton...|       [Western]|Calamity Anne's L...|1914|\n",
            "|[Charlie Chaplin,...|        [Comedy]|    The Star Boarder|1914|\n",
            "|[Sydney Ayres, Ja...|              []|A Story of Little...|1914|\n",
            "|[Sydney Ayres, Pe...|              []|The Story of the ...|1914|\n",
            "|[Charlotte Burton...|              []|    This Is th' Life|1914|\n",
            "|[Lon Chaney, Leat...|  [Crime, Drama]|   The Ace of Hearts|1921|\n",
            "|[Madge Kennedy, M...| [Comedy, Drama]|  The Purple Highway|1923|\n",
            "|[Douglas Fairbank...|              []| The Thief of Bagdad|1924|\n",
            "|[Kru, Chantui, Na...|   [Documentary]|Chang: A Drama of...|1927|\n",
            "|[H. B. Warner, An...|         [Drama]|     Sorrell and Son|1927|\n",
            "|[Sam De Grasse, V...|     [Adventure]|The Wreck of the ...|1927|\n",
            "|[Fredric March, O...|[Drama, Romance]|     Anthony Adverse|1936|\n",
            "+--------------------+----------------+--------------------+----+\n",
            "only showing top 20 rows\n",
            "\n"
          ]
        }
      ]
    },
    {
      "cell_type": "code",
      "source": [
        "# 5. Show the movies whose name is the longest\n",
        "new_df = df.select(df.title).withColumn('length', f.length(df.title)).orderBy(f.col('length'), ascending = False)\n",
        "highest_len = new_df.first()[1]\n",
        "new_df.where(f.col('length') == highest_len).show()"
      ],
      "metadata": {
        "id": "CkYytQogHbaN",
        "colab": {
          "base_uri": "https://localhost:8080/"
        },
        "outputId": "358fc728-0283-4b2e-d059-3f15b47d5e82"
      },
      "execution_count": null,
      "outputs": [
        {
          "output_type": "stream",
          "name": "stdout",
          "text": [
            "+--------------------+------+\n",
            "|               title|length|\n",
            "+--------------------+------+\n",
            "|Cornell-Columbia-...|   110|\n",
            "+--------------------+------+\n",
            "\n"
          ]
        }
      ]
    },
    {
      "cell_type": "code",
      "source": [
        "# 6. Show the movies whose name contains the word “fighting” (case-insensitive)\n",
        "df.select(df.title).where(f.lower(df.title).contains('fighting')).show()"
      ],
      "metadata": {
        "id": "Dcdjzq0tWWc3",
        "colab": {
          "base_uri": "https://localhost:8080/"
        },
        "outputId": "3b86e084-2fd5-4491-d199-57a3acd6f6fc"
      },
      "execution_count": null,
      "outputs": [
        {
          "output_type": "stream",
          "name": "stdout",
          "text": [
            "+--------------------+\n",
            "|               title|\n",
            "+--------------------+\n",
            "|  A Fighting Colleen|\n",
            "|     Fighting Cressy|\n",
            "|    Fighting Destiny|\n",
            "|   Fighting for Gold|\n",
            "|  The Fighting Heart|\n",
            "|   The Fighting Line|\n",
            "|  The Fighting Guide|\n",
            "| The Fighting Streak|\n",
            "|  The Fighting Blade|\n",
            "| The Fighting Coward|\n",
            "|       Fighting Fury|\n",
            "|The Fighting Adve...|\n",
            "|    The Fighting Sap|\n",
            "|  The Fighting Demon|\n",
            "|       Fighting Fate|\n",
            "|  The Fighting Heart|\n",
            "|       Fighting Luck|\n",
            "|  The Fighting Smile|\n",
            "| Fighting the Flames|\n",
            "|      Fighting Youth|\n",
            "+--------------------+\n",
            "only showing top 20 rows\n",
            "\n"
          ]
        }
      ]
    },
    {
      "cell_type": "code",
      "source": [
        "# 7. Show the list of distinct genres appearing in the dataset\n",
        "df.select(f.explode('genres').alias('genres')).distinct().show()"
      ],
      "metadata": {
        "id": "4RX0oTwVHbcY",
        "colab": {
          "base_uri": "https://localhost:8080/"
        },
        "outputId": "8886eac6-7437-4c3d-8258-7ad85d4491fd"
      },
      "execution_count": null,
      "outputs": [
        {
          "output_type": "stream",
          "name": "stdout",
          "text": [
            "+-------------+\n",
            "|       genres|\n",
            "+-------------+\n",
            "|        Crime|\n",
            "|      Romance|\n",
            "|     Thriller|\n",
            "|      Slasher|\n",
            "|Found Footage|\n",
            "|    Adventure|\n",
            "|         Teen|\n",
            "| Martial Arts|\n",
            "|       Sports|\n",
            "|        Drama|\n",
            "|          War|\n",
            "|  Documentary|\n",
            "|       Family|\n",
            "|      Fantasy|\n",
            "|       Silent|\n",
            "|     Disaster|\n",
            "|        Legal|\n",
            "|      Mystery|\n",
            "| Supernatural|\n",
            "|     Suspense|\n",
            "+-------------+\n",
            "only showing top 20 rows\n",
            "\n"
          ]
        }
      ]
    },
    {
      "cell_type": "code",
      "source": [
        "# 8. List all movies in which the actor Harrison Ford has participated.\n",
        "df.where(f.array_contains(df.cast, 'Harrison Ford')).show(truncate = False)"
      ],
      "metadata": {
        "id": "uRr1Vp6sCzdM",
        "colab": {
          "base_uri": "https://localhost:8080/"
        },
        "outputId": "58a7ed59-0b58-48a3-9884-f9e40975bd68"
      },
      "execution_count": null,
      "outputs": [
        {
          "output_type": "stream",
          "name": "stdout",
          "text": [
            "+-------------------------------------------------+-----------------+-------------------------+----+\n",
            "|cast                                             |genres           |title                    |year|\n",
            "+-------------------------------------------------+-----------------+-------------------------+----+\n",
            "|[Constance Talmadge, Harrison Ford]              |[Romance, Comedy]|Experimental Marriage    |1919|\n",
            "|[Constance Talmadge, Harrison Ford]              |[Comedy]         |Happiness a la Mode      |1919|\n",
            "|[Constance Talmadge, Harrison Ford]              |[Comedy]         |Romance and Arabella     |1919|\n",
            "|[Vivian Martin, Harrison Ford]                   |[Comedy]         |The Third Kiss           |1919|\n",
            "|[Harrison Ford, Constance Talmadge]              |[Comedy]         |The Veiled Adventure     |1919|\n",
            "|[Constance Talmadge, Harrison Ford]              |[Comedy]         |Who Cares?               |1919|\n",
            "|[Vivian Martin, Harrison Ford]                   |[Drama]          |You Never Saw Such a Girl|1919|\n",
            "|[Norma Talmadge, Harrison Ford]                  |[Drama]          |The Wonderful Thing      |1921|\n",
            "|[Alma Rubens, Harrison Ford]                     |[Mystery]        |Find the Woman           |1922|\n",
            "|[Constance Talmadge, Harrison Ford]              |[Drama]          |The Primitive Lover      |1922|\n",
            "|[Norma Talmadge, Wyndham Standing, Harrison Ford]|[Romance, Drama] |Smilin' Through          |1922|\n",
            "|[Helen Jerome Eddy, Harrison Ford]               |[Drama]          |When Love Comes          |1922|\n",
            "|[Marion Davies, Harrison Ford]                   |[Historical]     |Little Old New York      |1923|\n",
            "|[Madge Kennedy, Harrison Ford]                   |[Drama]          |Three Miles Out          |1924|\n",
            "|[Margaret Livingston, Harrison Ford]             |[Drama]          |The Wheel                |1925|\n",
            "|[Marie Prevost, Harrison Ford, George K. Arthur] |[Comedy]         |Almost a Lady            |1926|\n",
            "|[Harrison Ford, Marceline Day]                   |[Drama]          |Hell's Four Hundred      |1926|\n",
            "|[Harrison Ford, Phyllis Haver]                   |[Comedy]         |The Nervous Wreck        |1926|\n",
            "|[Marie Prevost, Harrison Ford, Phyllis Haver]    |[Comedy]         |Up in Mabel's Room       |1926|\n",
            "|[Vera Reynolds, Harrison Ford]                   |[Comedy]         |Golf Widows              |1928|\n",
            "+-------------------------------------------------+-----------------+-------------------------+----+\n",
            "only showing top 20 rows\n",
            "\n"
          ]
        }
      ]
    },
    {
      "cell_type": "code",
      "source": [
        "# 9. List all movies in which the actors/actresses whose names include the word “Lewis“ (case-insensitive) have participated.\n",
        "newdf = df.withColumn('cast', f.explode(df.cast))\n",
        "newdf.where(f.lower(newdf.cast).contains('lewis')).show()"
      ],
      "metadata": {
        "id": "jVNTXVcrC1jL",
        "colab": {
          "base_uri": "https://localhost:8080/"
        },
        "outputId": "3616c8f8-ae5b-4425-db5c-d3c46921a861"
      },
      "execution_count": null,
      "outputs": [
        {
          "output_type": "stream",
          "name": "stdout",
          "text": [
            "+--------------+-----------+--------------------+----+\n",
            "|          cast|     genres|               title|year|\n",
            "+--------------+-----------+--------------------+----+\n",
            "|     Ida Lewis|         []|       The Butterfly|1914|\n",
            "| Sheldon Lewis|    [Drama]|The Exploits of E...|1914|\n",
            "|     Ida Lewis|   [Comedy]| Mein Lieber Katrina|1914|\n",
            "|   Ralph Lewis|    [Drama]|      Going Straight|1916|\n",
            "|   Ralph Lewis|    [Drama]|Gretchen the Gree...|1916|\n",
            "|     Ben Lewis|  [Western]|     A Sister of Six|1916|\n",
            "| Lewis J. Cody|    [Drama]| The Bride's Silence|1917|\n",
            "|Mitchell Lewis|    [Drama]|Nine-Tenths of th...|1918|\n",
            "|Mitchell Lewis|    [Drama]|The Faith of the ...|1919|\n",
            "|   Ralph Lewis|   [Comedy]|         The Hoodlum|1919|\n",
            "|Mitchell Lewis|    [Drama]|Jacques of the Si...|1919|\n",
            "|Mitchell Lewis|    [Drama]|The Last of His P...|1919|\n",
            "|   Lewis Stone|    [Drama]|        Man's Desire|1919|\n",
            "|    Vera Lewis|   [Comedy]|   Yvonne from Paris|1919|\n",
            "|Mitchell Lewis|    [Drama]|Nine-Tenths of th...|1919|\n",
            "|   Ralph Lewis|  [Mystery]|                 813|1920|\n",
            "| Lewis Sargent|[Adventure]|    Huckleberry Finn|1920|\n",
            "|   Ralph Lewis|    [Drama]|             Salvage|1921|\n",
            "|   Ralph Lewis|   [Comedy]|The Five Dollar Baby|1922|\n",
            "|   Lewis Stone|    [Drama]|    A Fool There Was|1922|\n",
            "+--------------+-----------+--------------------+----+\n",
            "only showing top 20 rows\n",
            "\n"
          ]
        }
      ]
    },
    {
      "cell_type": "code",
      "source": [
        "# 10. Show top five actors/actresses that have participated in most movies.\n",
        "exploded_df = df.withColumn('cast', f.explode(df.cast))\n",
        "res_df = exploded_df.groupBy(exploded_df.cast).count().orderBy('count', ascending = False).show(5)\n"
      ],
      "metadata": {
        "id": "-LKWMCexC4pC",
        "colab": {
          "base_uri": "https://localhost:8080/"
        },
        "outputId": "af9953a9-0c12-470b-a501-aae879957be9"
      },
      "execution_count": null,
      "outputs": [
        {
          "output_type": "stream",
          "name": "stdout",
          "text": [
            "+----------------+-----+\n",
            "|            cast|count|\n",
            "+----------------+-----+\n",
            "|    Harold Lloyd|  190|\n",
            "|     Hoot Gibson|  142|\n",
            "|      John Wayne|  136|\n",
            "|Charles Starrett|  116|\n",
            "|    Bebe Daniels|  103|\n",
            "+----------------+-----+\n",
            "only showing top 5 rows\n",
            "\n"
          ]
        }
      ]
    },
    {
      "cell_type": "markdown",
      "source": [
        "# B. RDD exercises"
      ],
      "metadata": {
        "id": "NiykQWBugo-y"
      }
    },
    {
      "cell_type": "markdown",
      "source": [
        "## 1. Given a string s that include only alphabetical letters and spaces. Check whether s1 is a palindrome."
      ],
      "metadata": {
        "id": "OnjybkyUhVYK"
      }
    },
    {
      "cell_type": "code",
      "source": [
        "# palindrome là ngược giống xuôi.\n",
        "s = \"race car\"\n",
        "def isPalindrome(s):\n",
        "  return s==s[::-1]\n",
        "\n",
        "isPalindrome(s.replace(\" \",\"\"))"
      ],
      "metadata": {
        "colab": {
          "base_uri": "https://localhost:8080/"
        },
        "id": "OzzVd7oAqN0q",
        "outputId": "80823adc-a28b-4dc9-9ef1-9b566fbed209"
      },
      "execution_count": null,
      "outputs": [
        {
          "output_type": "execute_result",
          "data": {
            "text/plain": [
              "True"
            ]
          },
          "metadata": {},
          "execution_count": 20
        }
      ]
    },
    {
      "cell_type": "code",
      "source": [
        "s = 'race car'\n",
        "rdd = spark.sparkContext.parallelize(s).filter(lambda l: l!= ' ')\n",
        "rdd.collect()"
      ],
      "metadata": {
        "colab": {
          "base_uri": "https://localhost:8080/"
        },
        "id": "4CrY8KBPs2sy",
        "outputId": "01dda8e9-5183-4c96-e518-a60acf8fa5b2"
      },
      "execution_count": null,
      "outputs": [
        {
          "output_type": "execute_result",
          "data": {
            "text/plain": [
              "['r', 'a', 'c', 'e', 'c', 'a', 'r']"
            ]
          },
          "metadata": {},
          "execution_count": 21
        }
      ]
    },
    {
      "cell_type": "code",
      "source": [
        "# a rdd for the orignal series of letters\n",
        "index = spark.sparkContext.range(0, rdd.count())\n",
        "rddForward = index.zip(rdd)\n",
        "rddForward.collect()"
      ],
      "metadata": {
        "colab": {
          "base_uri": "https://localhost:8080/"
        },
        "id": "uXQ-VL4us4G9",
        "outputId": "d8511601-c528-4864-d1f6-0c6b69df6134"
      },
      "execution_count": null,
      "outputs": [
        {
          "output_type": "execute_result",
          "data": {
            "text/plain": [
              "[(0, 'r'), (1, 'a'), (2, 'c'), (3, 'e'), (4, 'c'), (5, 'a'), (6, 'r')]"
            ]
          },
          "metadata": {},
          "execution_count": 22
        }
      ]
    },
    {
      "cell_type": "code",
      "source": [
        "rddBackward = rddForward.sortBy(lambda r:r[0]*-1)\n",
        "rddBackward.collect()"
      ],
      "metadata": {
        "colab": {
          "base_uri": "https://localhost:8080/"
        },
        "id": "SnNQ8dr8s66A",
        "outputId": "ce29471b-3064-47d4-9656-49fbb8f543ac"
      },
      "execution_count": null,
      "outputs": [
        {
          "output_type": "execute_result",
          "data": {
            "text/plain": [
              "[(6, 'r'), (5, 'a'), (4, 'c'), (3, 'e'), (2, 'c'), (1, 'a'), (0, 'r')]"
            ]
          },
          "metadata": {},
          "execution_count": 23
        }
      ]
    },
    {
      "cell_type": "code",
      "source": [
        "rddCombined = rddForward.zip(rddBackward)\n",
        "rddCombined.collect()"
      ],
      "metadata": {
        "colab": {
          "base_uri": "https://localhost:8080/"
        },
        "id": "DpwLbIKis-NC",
        "outputId": "86d46114-c046-4aab-9ed8-77bcad3654d0"
      },
      "execution_count": null,
      "outputs": [
        {
          "output_type": "execute_result",
          "data": {
            "text/plain": [
              "[((0, 'r'), (6, 'r')),\n",
              " ((1, 'a'), (5, 'a')),\n",
              " ((2, 'c'), (4, 'c')),\n",
              " ((3, 'e'), (3, 'e')),\n",
              " ((4, 'c'), (2, 'c')),\n",
              " ((5, 'a'), (1, 'a')),\n",
              " ((6, 'r'), (0, 'r'))]"
            ]
          },
          "metadata": {},
          "execution_count": 24
        }
      ]
    },
    {
      "cell_type": "code",
      "source": [
        "rddCombined.filter(lambda r: r[0][1] != r[1][1]).count()"
      ],
      "metadata": {
        "colab": {
          "base_uri": "https://localhost:8080/"
        },
        "id": "hIq6-UKUtCHF",
        "outputId": "9518b4e5-b302-48ed-b62e-3a8d02131711"
      },
      "execution_count": null,
      "outputs": [
        {
          "output_type": "execute_result",
          "data": {
            "text/plain": [
              "0"
            ]
          },
          "metadata": {},
          "execution_count": 25
        }
      ]
    },
    {
      "cell_type": "markdown",
      "source": [
        "## 2. Given a string s that include only alphabetical letters and spaces. Check whether s1 is a pangram."
      ],
      "metadata": {
        "id": "3TlZXYchheZI"
      }
    },
    {
      "cell_type": "code",
      "source": [
        "s = \"The quick brown fox jumps over the lazy dog\"\n",
        "s1 = \"The quick brown fox jumps over the dog\"\n",
        "def isPangram(s):\n",
        "  rdd = spark.sparkContext.parallelize(s).filter(lambda l: l!= ' ')\n",
        "  return rdd.distinct().count() == 26\n",
        "\n",
        "isPangram(s.lower())"
      ],
      "metadata": {
        "id": "fJ19KVqbhnmy",
        "colab": {
          "base_uri": "https://localhost:8080/"
        },
        "outputId": "d02036f9-5fac-4324-8e44-26de89bfaa3d"
      },
      "execution_count": null,
      "outputs": [
        {
          "output_type": "execute_result",
          "data": {
            "text/plain": [
              "True"
            ]
          },
          "metadata": {},
          "execution_count": 85
        }
      ]
    },
    {
      "cell_type": "markdown",
      "source": [
        "## 3. Given two strings, s1 and s2, that include only alphabetical letters and spaces. Check whether s1 is an anagram of s2"
      ],
      "metadata": {
        "id": "4T3Clr8dgtSp"
      }
    },
    {
      "cell_type": "markdown",
      "source": [],
      "metadata": {
        "id": "Z-dDFPd9hy-d"
      }
    },
    {
      "cell_type": "code",
      "source": [
        "str1 = \"listen\" \n",
        "str2 = \"silent\"\n",
        "\n",
        "def sortStr(str):\n",
        "  return spark.sparkContext.parallelize(str2).filter(lambda l: l!= ' ')\\\n",
        "         .sortBy(lambda x: x)\n",
        "\n",
        "def isAnagram(str1, str2):\n",
        "  rdd1 = sortStr(str1)\n",
        "  rdd2 = sortStr(str2)\n",
        "  rddCombined = rdd1.zip(rdd2)\n",
        "  return rddCombined.filter(lambda x: x[0] != x[1]).count() == 0\n",
        "\n",
        "isAnagram(str1, str2) "
      ],
      "metadata": {
        "id": "UPwJMiHFgsN9",
        "colab": {
          "base_uri": "https://localhost:8080/"
        },
        "outputId": "96d96fa8-132e-4f42-f9cc-71791b338729"
      },
      "execution_count": null,
      "outputs": [
        {
          "output_type": "execute_result",
          "data": {
            "text/plain": [
              "True"
            ]
          },
          "metadata": {},
          "execution_count": 27
        }
      ]
    }
  ]
}